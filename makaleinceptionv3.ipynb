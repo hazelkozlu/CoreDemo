{
  "cells": [
    {
      "cell_type": "markdown",
      "metadata": {
        "id": "view-in-github",
        "colab_type": "text"
      },
      "source": [
        "<a href=\"https://colab.research.google.com/github/hazelkozlu/CoreDemo/blob/master/makaleinceptionv3.ipynb\" target=\"_parent\"><img src=\"https://colab.research.google.com/assets/colab-badge.svg\" alt=\"Open In Colab\"/></a>"
      ]
    },
    {
      "cell_type": "code",
      "execution_count": 1,
      "metadata": {
        "colab": {
          "base_uri": "https://localhost:8080/"
        },
        "id": "7zeZa4oGs9tt",
        "outputId": "07d78b46-3009-494a-86ca-780bf82bb886"
      },
      "outputs": [
        {
          "output_type": "stream",
          "name": "stdout",
          "text": [
            "Mounted at /content/gdrive\n",
            "/content/gdrive/My Drive/Colab Notebooks\n"
          ]
        }
      ],
      "source": [
        "#google drive bağlantısı için\n",
        "from  google.colab import drive\n",
        "drive.mount('/content/gdrive')\n",
        "%cd gdrive/My Drive/Colab Notebooks/"
      ]
    },
    {
      "cell_type": "code",
      "source": [
        "import tensorflow as tf\n",
        "from tensorflow.keras import layers, models\n",
        "from tensorflow.keras.preprocessing.image import ImageDataGenerator\n",
        "from tensorflow.keras.applications import InceptionV3\n",
        "from tensorflow.keras.optimizers import Adam\n",
        "from tensorflow.keras.callbacks import LearningRateScheduler\n",
        "\n",
        "# Veri yolu ve parametreleri\n",
        "\n",
        "train_data_dir = 'TezVeriSeti/train'\n",
        "test_data_dir = 'TezVeriSeti/valid'\n",
        "img_width, img_height = 224, 224   # Inception V3 giriş boyutu\n",
        "batch_size = 32\n",
        "epochs = 20  # Increase the number of epochs\n",
        "num_classes = 4\n",
        "\n",
        "# Veri Ön İşleme\n",
        "train_datagen = ImageDataGenerator(rescale=1./255,\n",
        "                                   shear_range=0.2,\n",
        "                                   zoom_range=0.2,\n",
        "                                   horizontal_flip=True)\n",
        "\n",
        "test_datagen = ImageDataGenerator(rescale=1./255)\n",
        "\n",
        "train_generator = train_datagen.flow_from_directory(train_data_dir,\n",
        "                                                    target_size=(img_width, img_height),\n",
        "                                                    batch_size=batch_size,\n",
        "                                                    class_mode='categorical')\n",
        "\n",
        "validation_generator = test_datagen.flow_from_directory(test_data_dir,\n",
        "                                                        target_size=(img_width, img_height),\n",
        "                                                        batch_size=batch_size,\n",
        "                                                        class_mode='categorical')\n",
        "\n",
        "# Inception V3 Modeli Oluşturma\n",
        "base_model = InceptionV3(weights='imagenet', include_top=False, input_shape=(img_width, img_height, 3))\n",
        "\n",
        "# Yeni sınıflandırma katmanını ekleyelim\n",
        "x = base_model.output\n",
        "x = layers.GlobalAveragePooling2D()(x)\n",
        "x = layers.Dense(1024, activation='relu')(x)\n",
        "predictions = layers.Dense(num_classes, activation='softmax')(x)\n",
        "\n",
        "# Modeli birleştirelim\n",
        "model = models.Model(inputs=base_model.input, outputs=predictions)\n",
        "\n",
        "# İlk katmanları dondurarak transfer öğrenmeyi etkinleştirelim\n",
        "for layer in base_model.layers:\n",
        "    layer.trainable = False\n",
        "\n",
        "# Modeli derleme\n",
        "model.compile(optimizer=Adam(lr=0.001), loss='categorical_crossentropy', metrics=['accuracy'])\n",
        "\n",
        "# Modeli eğitme\n",
        "history = model.fit(train_generator,\n",
        "                    steps_per_epoch=train_generator.samples // batch_size,\n",
        "                    epochs=epochs,\n",
        "                    validation_data=validation_generator,\n",
        "                    validation_steps=validation_generator.samples // batch_size)\n",
        "\n",
        "\n"
      ],
      "metadata": {
        "colab": {
          "base_uri": "https://localhost:8080/"
        },
        "id": "4zZ4xHzJ0Jfv",
        "outputId": "00a0296f-2e52-47e4-a12c-a84516299bd7"
      },
      "execution_count": 2,
      "outputs": [
        {
          "metadata": {
            "tags": null
          },
          "name": "stdout",
          "output_type": "stream",
          "text": [
            "Found 958 images belonging to 4 classes.\n",
            "Found 960 images belonging to 4 classes.\n",
            "Downloading data from https://storage.googleapis.com/tensorflow/keras-applications/inception_v3/inception_v3_weights_tf_dim_ordering_tf_kernels_notop.h5\n",
            "87910968/87910968 [==============================] - 1s 0us/step\n"
          ]
        },
        {
          "metadata": {
            "tags": null
          },
          "name": "stderr",
          "output_type": "stream",
          "text": [
            "WARNING:absl:`lr` is deprecated in Keras optimizer, please use `learning_rate` or use the legacy optimizer, e.g.,tf.keras.optimizers.legacy.Adam.\n"
          ]
        },
        {
          "output_type": "stream",
          "name": "stdout",
          "text": [
            "Epoch 1/20\n",
            "29/29 [==============================] - 654s 23s/step - loss: 1.6163 - accuracy: 0.5313 - val_loss: 0.7286 - val_accuracy: 0.6677\n",
            "Epoch 2/20\n",
            "29/29 [==============================] - 274s 10s/step - loss: 0.5673 - accuracy: 0.7678 - val_loss: 0.5905 - val_accuracy: 0.7625\n",
            "Epoch 3/20\n",
            "29/29 [==============================] - 279s 10s/step - loss: 0.4801 - accuracy: 0.8110 - val_loss: 0.5460 - val_accuracy: 0.7719\n",
            "Epoch 4/20\n",
            "29/29 [==============================] - 275s 10s/step - loss: 0.4133 - accuracy: 0.8315 - val_loss: 0.4762 - val_accuracy: 0.8000\n",
            "Epoch 5/20\n",
            "29/29 [==============================] - 278s 10s/step - loss: 0.3629 - accuracy: 0.8553 - val_loss: 0.4686 - val_accuracy: 0.8167\n",
            "Epoch 6/20\n",
            "29/29 [==============================] - 269s 9s/step - loss: 0.3789 - accuracy: 0.8499 - val_loss: 0.5051 - val_accuracy: 0.7875\n",
            "Epoch 7/20\n",
            "29/29 [==============================] - 274s 10s/step - loss: 0.3512 - accuracy: 0.8683 - val_loss: 0.4429 - val_accuracy: 0.8281\n",
            "Epoch 8/20\n",
            "29/29 [==============================] - 264s 9s/step - loss: 0.3075 - accuracy: 0.8683 - val_loss: 0.4142 - val_accuracy: 0.8344\n",
            "Epoch 9/20\n",
            "29/29 [==============================] - 270s 9s/step - loss: 0.2522 - accuracy: 0.9147 - val_loss: 0.4696 - val_accuracy: 0.8271\n",
            "Epoch 10/20\n",
            "29/29 [==============================] - 271s 10s/step - loss: 0.2718 - accuracy: 0.8920 - val_loss: 0.4038 - val_accuracy: 0.8427\n",
            "Epoch 11/20\n",
            "29/29 [==============================] - 271s 9s/step - loss: 0.2417 - accuracy: 0.9147 - val_loss: 0.4742 - val_accuracy: 0.8229\n",
            "Epoch 12/20\n",
            "29/29 [==============================] - 270s 9s/step - loss: 0.2565 - accuracy: 0.8920 - val_loss: 0.4915 - val_accuracy: 0.8229\n",
            "Epoch 13/20\n",
            "29/29 [==============================] - 271s 9s/step - loss: 0.2101 - accuracy: 0.9276 - val_loss: 0.4486 - val_accuracy: 0.8313\n",
            "Epoch 14/20\n",
            "29/29 [==============================] - 271s 9s/step - loss: 0.2181 - accuracy: 0.9093 - val_loss: 0.4293 - val_accuracy: 0.8396\n",
            "Epoch 15/20\n",
            "29/29 [==============================] - 248s 9s/step - loss: 0.2440 - accuracy: 0.9168 - val_loss: 0.6666 - val_accuracy: 0.7469\n",
            "Epoch 16/20\n",
            "29/29 [==============================] - 270s 9s/step - loss: 0.2061 - accuracy: 0.9233 - val_loss: 0.4175 - val_accuracy: 0.8427\n",
            "Epoch 17/20\n",
            "29/29 [==============================] - 248s 9s/step - loss: 0.1722 - accuracy: 0.9363 - val_loss: 0.4889 - val_accuracy: 0.8250\n",
            "Epoch 18/20\n",
            "29/29 [==============================] - 270s 9s/step - loss: 0.1995 - accuracy: 0.9255 - val_loss: 0.4399 - val_accuracy: 0.8323\n",
            "Epoch 19/20\n",
            "29/29 [==============================] - 273s 10s/step - loss: 0.1563 - accuracy: 0.9330 - val_loss: 0.4052 - val_accuracy: 0.8510\n",
            "Epoch 20/20\n",
            "29/29 [==============================] - 269s 9s/step - loss: 0.1443 - accuracy: 0.9471 - val_loss: 0.3955 - val_accuracy: 0.8646\n"
          ]
        }
      ]
    },
    {
      "cell_type": "code",
      "execution_count": 4,
      "metadata": {
        "id": "stNxqbG4SDm_",
        "colab": {
          "base_uri": "https://localhost:8080/"
        },
        "outputId": "555ffe7d-8988-42e4-dcca-40a3206ab78c"
      },
      "outputs": [
        {
          "output_type": "stream",
          "name": "stdout",
          "text": [
            "30/30 [==============================] - 135s 5s/step - loss: 0.3955 - accuracy: 0.8646\n",
            "Test Loss: 0.3955181837081909, Test Accuracy: 0.8645833134651184\n",
            "Model başarıyla kaydedildi.\n",
            "1/1 [==============================] - 2s 2s/step\n",
            "Tahmin: yaprakdelen, Olasılık: 0.999733030796051\n"
          ]
        }
      ],
      "source": [
        "# Modeli değerlendirme\n",
        "test_loss, test_accuracy = model.evaluate(validation_generator, steps=len(validation_generator))\n",
        "print(f\"Test Loss: {test_loss}, Test Accuracy: {test_accuracy}\")\n",
        "\n",
        "\n",
        "# Modeli kaydetme\n",
        "model.save('inception_v3_model.h5')\n",
        "print(\"Model başarıyla kaydedildi.\")\n",
        "\n",
        "# Yeni görüntüleri tahmin etme\n",
        "import numpy as np\n",
        "from tensorflow.keras.preprocessing import image\n",
        "\n",
        "def predict_leaf_disease(image_path):\n",
        "    img = image.load_img(image_path, target_size=(img_width, img_height))\n",
        "    img_array = image.img_to_array(img)\n",
        "    img_array = np.expand_dims(img_array, axis=0)\n",
        "    img_array /= 255.0\n",
        "\n",
        "    # Tahmin\n",
        "    prediction = model.predict(img_array)\n",
        "    class_index = np.argmax(prediction[0])   # En yüksek olasılığa sahip sınıfın dizini\n",
        "    class_labels = train_generator.class_indices   # Sınıf etiketlerini alın\n",
        "    class_label = list(class_labels.keys())[list(class_labels.values()).index(class_index)]   # Sınıf etiketini alın\n",
        "    print(f\"Tahmin: {class_label}, Olasılık: {prediction[0][class_index]}\")\n",
        "\n",
        "# Test için yeni bir görüntü tahmini\n",
        "##test_image_path = 'TezVeriSeti/valid/yaprakdelen/delendog (1).png'\n",
        "test_image_path = 'TezVeriSeti/test1/test - Kopya/IMG_20220703_130251-256 b1 (145).png'\n",
        "\n",
        "predict_leaf_disease(test_image_path)"
      ]
    },
    {
      "cell_type": "code",
      "source": [
        "import numpy as np\n",
        "from sklearn.metrics import confusion_matrix, classification_report\n",
        "\n",
        "# Test verileri üzerinde modeli değerlendirme\n",
        "test_generator = test_datagen.flow_from_directory(test_data_dir,\n",
        "                                                  target_size=(img_width, img_height),\n",
        "                                                  batch_size=batch_size,\n",
        "                                                  class_mode='categorical',\n",
        "                                                  shuffle=False)\n",
        "\n",
        "# Modelin tahminleri\n",
        "y_pred = model.predict(test_generator, steps=test_generator.samples // batch_size)\n",
        "y_pred_classes = np.argmax(y_pred, axis=1)  # Sınıf indekslerine dönüştürme\n",
        "\n",
        "# Gerçek etiketler\n",
        "y_true = test_generator.classes\n",
        "\n",
        "# Confusion Matrix'i hesapla\n",
        "cm = confusion_matrix(y_true, y_pred_classes)\n",
        "print(\"Confusion Matrix:\")\n",
        "print(cm)\n",
        "\n",
        "# Sınıflandırma Raporunu yazdırma\n",
        "target_names = list(test_generator.class_indices.keys())\n",
        "print(\"\\nClassification Report:\")\n",
        "print(classification_report(y_true, y_pred_classes, target_names=target_names))\n"
      ],
      "metadata": {
        "colab": {
          "base_uri": "https://localhost:8080/"
        },
        "id": "LPCkqqcgWu-9",
        "outputId": "e27c8ec8-8c28-4f15-8265-fc3a8fa088f4"
      },
      "execution_count": 7,
      "outputs": [
        {
          "output_type": "stream",
          "name": "stdout",
          "text": [
            "Found 960 images belonging to 4 classes.\n",
            "30/30 [==============================] - 127s 4s/step\n",
            "Confusion Matrix:\n",
            "[[239   0   1   0]\n",
            " [  0 213   6  21]\n",
            " [  0  13 193  34]\n",
            " [  0  28  27 185]]\n",
            "\n",
            "Classification Report:\n",
            "               precision    recall  f1-score   support\n",
            "\n",
            "      kulleme       1.00      1.00      1.00       240\n",
            "potasyumeksik       0.84      0.89      0.86       240\n",
            "     saglikli       0.85      0.80      0.83       240\n",
            "  yaprakdelen       0.77      0.77      0.77       240\n",
            "\n",
            "     accuracy                           0.86       960\n",
            "    macro avg       0.86      0.86      0.86       960\n",
            " weighted avg       0.86      0.86      0.86       960\n",
            "\n"
          ]
        }
      ]
    },
    {
      "cell_type": "code",
      "source": [
        "import numpy as np\n",
        "import seaborn as sns\n",
        "import matplotlib.pyplot as plt\n",
        "from sklearn.metrics import confusion_matrix, classification_report\n",
        "\n",
        "# Test verileri üzerinde modeli değerlendirme\n",
        "test_generator = test_datagen.flow_from_directory(test_data_dir,\n",
        "                                                  target_size=(img_width, img_height),\n",
        "                                                  batch_size=batch_size,\n",
        "                                                  class_mode='categorical',\n",
        "                                                  shuffle=False)\n",
        "\n",
        "# Modelin tahminleri\n",
        "y_pred = model.predict(test_generator, steps=test_generator.samples // batch_size)\n",
        "y_pred_classes = np.argmax(y_pred, axis=1)  # Sınıf indekslerine dönüştürme\n",
        "\n",
        "# Gerçek etiketler\n",
        "y_true = test_generator.classes\n",
        "\n",
        "# Confusion Matrix'i hesapla\n",
        "cm = confusion_matrix(y_true, y_pred_classes)\n",
        "print(\"Confusion Matrix:\")\n",
        "print(cm)\n",
        "\n",
        "# Confusion Matrix'i görselleştirme\n",
        "class_labels = list(test_generator.class_indices.keys())\n",
        "plt.figure(figsize=(8, 6))\n",
        "sns.heatmap(cm, annot=True, fmt='d', cmap='Blues', xticklabels=class_labels, yticklabels=class_labels)\n",
        "plt.xlabel('Tahmin Edilen Sınıf')\n",
        "plt.ylabel('Gerçek Sınıf')\n",
        "plt.title('Confusion Matrix')\n",
        "plt.show()\n",
        "\n",
        "# Sınıflandırma Raporunu yazdırma\n",
        "target_names = list(test_generator.class_indices.keys())\n",
        "print(\"\\nClassification Report:\")\n",
        "print(classification_report(y_true, y_pred_classes, target_names=target_names))\n"
      ],
      "metadata": {
        "colab": {
          "base_uri": "https://localhost:8080/",
          "height": 911
        },
        "id": "7E3YFsYjY6lK",
        "outputId": "beb767ad-b122-4388-b1d2-fa417cea6935"
      },
      "execution_count": 10,
      "outputs": [
        {
          "output_type": "stream",
          "name": "stdout",
          "text": [
            "Found 960 images belonging to 4 classes.\n",
            "30/30 [==============================] - 129s 4s/step\n",
            "Confusion Matrix:\n",
            "[[239   0   1   0]\n",
            " [  0 213   6  21]\n",
            " [  0  13 193  34]\n",
            " [  0  28  27 185]]\n"
          ]
        },
        {
          "output_type": "display_data",
          "data": {
            "text/plain": [
              "<Figure size 800x600 with 2 Axes>"
            ],
            "image/png": "[encoded data removed]"
          },
          "metadata": {}
        },
        {
          "output_type": "stream",
          "name": "stdout",
          "text": [
            "\n",
            "Classification Report:\n",
            "               precision    recall  f1-score   support\n",
            "\n",
            "      kulleme       1.00      1.00      1.00       240\n",
            "potasyumeksik       0.84      0.89      0.86       240\n",
            "     saglikli       0.85      0.80      0.83       240\n",
            "  yaprakdelen       0.77      0.77      0.77       240\n",
            "\n",
            "     accuracy                           0.86       960\n",
            "    macro avg       0.86      0.86      0.86       960\n",
            " weighted avg       0.86      0.86      0.86       960\n",
            "\n"
          ]
        }
      ]
    }
  ],
  "metadata": {
    "colab": {
      "provenance": [],
      "authorship_tag": "ABX9TyOrIN9/5k2AzC0t7tHCfYAK",
      "include_colab_link": true
    },
    "kernelspec": {
      "display_name": "Python 3",
      "name": "python3"
    },
    "language_info": {
      "name": "python"
    }
  },
  "nbformat": 4,
  "nbformat_minor": 0
}