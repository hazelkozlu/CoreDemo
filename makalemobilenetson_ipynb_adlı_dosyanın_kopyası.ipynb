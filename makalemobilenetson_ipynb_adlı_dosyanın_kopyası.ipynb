{
  "cells": [
    {
      "cell_type": "markdown",
      "metadata": {
        "id": "view-in-github",
        "colab_type": "text"
      },
      "source": [
        "<a href=\"https://colab.research.google.com/github/hazelkozlu/CoreDemo/blob/master/makalemobilenetson_ipynb_adl%C4%B1_dosyan%C4%B1n_kopyas%C4%B1.ipynb\" target=\"_parent\"><img src=\"https://colab.research.google.com/assets/colab-badge.svg\" alt=\"Open In Colab\"/></a>"
      ]
    },
    {
      "cell_type": "code",
      "execution_count": 1,
      "metadata": {
        "colab": {
          "base_uri": "https://localhost:8080/"
        },
        "id": "7zeZa4oGs9tt",
        "outputId": "5ed85185-e6e1-473f-f434-756621919612"
      },
      "outputs": [
        {
          "output_type": "stream",
          "name": "stdout",
          "text": [
            "Mounted at /content/gdrive\n",
            "/content/gdrive/My Drive/Colab Notebooks\n"
          ]
        }
      ],
      "source": [
        "#google drive bağlantısı için\n",
        "from  google.colab import drive\n",
        "drive.mount('/content/gdrive')\n",
        "%cd gdrive/My Drive/Colab Notebooks/"
      ]
    },
    {
      "cell_type": "code",
      "source": [
        "import tensorflow as tf\n",
        "from tensorflow.keras import layers, models\n",
        "from tensorflow.keras.preprocessing.image import ImageDataGenerator\n",
        "from tensorflow.keras.applications import MobileNetV2\n",
        "from tensorflow.keras.optimizers import Adam\n",
        "from tensorflow.keras.callbacks import LearningRateScheduler\n",
        "\n",
        "# Veri yolu ve parametreleri\n",
        "\n",
        "train_data_dir = 'TezVeriSeti/train'\n",
        "test_data_dir = 'TezVeriSeti/valid'\n",
        "img_width, img_height = 224, 224   # MobileNetV2 giriş boyutu\n",
        "batch_size = 32\n",
        "epochs = 20  # Increase the number of epochs\n",
        "num_classes = 4   # Toplam sınıf sayısı\n",
        "\n",
        "# Veri artırma ve ön işleme\n",
        "train_datagen = ImageDataGenerator(\n",
        "    rescale=1.0 / 255,\n",
        "    shear_range=0.2,\n",
        "    zoom_range=0.2,\n",
        "    horizontal_flip=True,\n",
        "    rotation_range=30,        # More rotation\n",
        "    width_shift_range=0.2,\n",
        "    height_shift_range=0.2,\n",
        "    fill_mode='nearest'\n",
        ")\n",
        "\n",
        "test_datagen = ImageDataGenerator(rescale=1.0 / 255)\n",
        "\n",
        "train_generator = train_datagen.flow_from_directory(\n",
        "    train_data_dir,\n",
        "    target_size=(img_width, img_height),\n",
        "    batch_size=batch_size,\n",
        "    class_mode='categorical',\n",
        "    shuffle=True\n",
        ")\n",
        "\n",
        "test_generator = test_datagen.flow_from_directory(\n",
        "    test_data_dir,\n",
        "    target_size=(img_width, img_height),\n",
        "    batch_size=batch_size,\n",
        "    class_mode='categorical',\n",
        "    shuffle=False\n",
        ")\n",
        "\n",
        "# MobileNetV2 modelini yükleyin (weights='imagenet' ile önceden eğitilmiş ağırlıkları yükle)\n",
        "base_model = MobileNetV2(input_shape=(img_width, img_height, 3), include_top=False, weights='imagenet')\n",
        "base_model.trainable = False\n",
        "\n",
        "# Transfer Öğrenme yaparak yeni sınıflandırma katmanlarını ekleyin\n",
        "model = models.Sequential([\n",
        "    base_model,\n",
        "    layers.GlobalAveragePooling2D(),\n",
        "    layers.Dense(128, activation='relu'),  # Increase the number of units\n",
        "    layers.BatchNormalization(),\n",
        "    layers.Dropout(0.5),\n",
        "    layers.Dense(64, activation='relu'),  # Add another Dense layer\n",
        "    layers.BatchNormalization(),\n",
        "    layers.Dropout(0.5),\n",
        "    layers.Dense(num_classes, activation='softmax')\n",
        "])\n",
        "\n",
        "# Modeli derleme ve öğrenme oranı düşürme\n",
        "initial_learning_rate = 0.01\n",
        "lr_schedule = LearningRateScheduler(lambda epoch: initial_learning_rate * 0.9 ** epoch)\n",
        "optimizer = Adam(learning_rate=initial_learning_rate)\n",
        "model.compile(optimizer=optimizer, loss='categorical_crossentropy', metrics=['accuracy'])\n",
        "\n",
        "# Model eğitimi\n",
        "model.fit(\n",
        "    train_generator,\n",
        "    steps_per_epoch=len(train_generator),\n",
        "    epochs=epochs,\n",
        "    validation_data=test_generator,\n",
        "    validation_steps=len(test_generator),\n",
        "    callbacks=[lr_schedule]\n",
        ")\n"
      ],
      "metadata": {
        "colab": {
          "base_uri": "https://localhost:8080/"
        },
        "id": "Q6-fuCODNjij",
        "outputId": "3fb085da-314c-4994-df33-48a5a5d915d8"
      },
      "execution_count": 2,
      "outputs": [
        {
          "output_type": "stream",
          "name": "stdout",
          "text": [
            "Found 958 images belonging to 4 classes.\n",
            "Found 960 images belonging to 4 classes.\n",
            "Downloading data from https://storage.googleapis.com/tensorflow/keras-applications/mobilenet_v2/mobilenet_v2_weights_tf_dim_ordering_tf_kernels_1.0_224_no_top.h5\n",
            "9406464/9406464 [==============================] - 0s 0us/step\n",
            "Epoch 1/20\n",
            "30/30 [==============================] - 685s 23s/step - loss: 1.0001 - accuracy: 0.6190 - val_loss: 0.8095 - val_accuracy: 0.7375 - lr: 0.0100\n",
            "Epoch 2/20\n",
            "30/30 [==============================] - 111s 4s/step - loss: 0.6019 - accuracy: 0.7516 - val_loss: 0.5567 - val_accuracy: 0.7667 - lr: 0.0090\n",
            "Epoch 3/20\n",
            "30/30 [==============================] - 143s 5s/step - loss: 0.5401 - accuracy: 0.7599 - val_loss: 0.5922 - val_accuracy: 0.7646 - lr: 0.0081\n",
            "Epoch 4/20\n",
            "30/30 [==============================] - 118s 4s/step - loss: 0.5039 - accuracy: 0.7944 - val_loss: 0.4519 - val_accuracy: 0.8073 - lr: 0.0073\n",
            "Epoch 5/20\n",
            "30/30 [==============================] - 141s 5s/step - loss: 0.4396 - accuracy: 0.8058 - val_loss: 0.3906 - val_accuracy: 0.8406 - lr: 0.0066\n",
            "Epoch 6/20\n",
            "30/30 [==============================] - 142s 5s/step - loss: 0.4454 - accuracy: 0.8205 - val_loss: 0.4013 - val_accuracy: 0.8271 - lr: 0.0059\n",
            "Epoch 7/20\n",
            "30/30 [==============================] - 142s 5s/step - loss: 0.4251 - accuracy: 0.8330 - val_loss: 0.3172 - val_accuracy: 0.8833 - lr: 0.0053\n",
            "Epoch 8/20\n",
            "30/30 [==============================] - 141s 5s/step - loss: 0.4220 - accuracy: 0.8424 - val_loss: 0.3431 - val_accuracy: 0.8583 - lr: 0.0048\n",
            "Epoch 9/20\n",
            "30/30 [==============================] - 103s 3s/step - loss: 0.3966 - accuracy: 0.8476 - val_loss: 0.3020 - val_accuracy: 0.8781 - lr: 0.0043\n",
            "Epoch 10/20\n",
            "30/30 [==============================] - 140s 5s/step - loss: 0.3593 - accuracy: 0.8528 - val_loss: 0.2975 - val_accuracy: 0.8885 - lr: 0.0039\n",
            "Epoch 11/20\n",
            "30/30 [==============================] - 139s 5s/step - loss: 0.3770 - accuracy: 0.8507 - val_loss: 0.2998 - val_accuracy: 0.8781 - lr: 0.0035\n",
            "Epoch 12/20\n",
            "30/30 [==============================] - 139s 5s/step - loss: 0.3244 - accuracy: 0.8779 - val_loss: 0.2974 - val_accuracy: 0.8823 - lr: 0.0031\n",
            "Epoch 13/20\n",
            "30/30 [==============================] - 103s 3s/step - loss: 0.3622 - accuracy: 0.8580 - val_loss: 0.2893 - val_accuracy: 0.8938 - lr: 0.0028\n",
            "Epoch 14/20\n",
            "30/30 [==============================] - 140s 5s/step - loss: 0.3256 - accuracy: 0.8789 - val_loss: 0.2952 - val_accuracy: 0.8833 - lr: 0.0025\n",
            "Epoch 15/20\n",
            "30/30 [==============================] - 139s 5s/step - loss: 0.3134 - accuracy: 0.8768 - val_loss: 0.2677 - val_accuracy: 0.9000 - lr: 0.0023\n",
            "Epoch 16/20\n",
            "30/30 [==============================] - 137s 5s/step - loss: 0.3203 - accuracy: 0.8737 - val_loss: 0.2680 - val_accuracy: 0.9094 - lr: 0.0021\n",
            "Epoch 17/20\n",
            "30/30 [==============================] - 141s 5s/step - loss: 0.3164 - accuracy: 0.8747 - val_loss: 0.2658 - val_accuracy: 0.9021 - lr: 0.0019\n",
            "Epoch 18/20\n",
            "30/30 [==============================] - 137s 5s/step - loss: 0.3136 - accuracy: 0.8789 - val_loss: 0.2631 - val_accuracy: 0.9021 - lr: 0.0017\n",
            "Epoch 19/20\n",
            "30/30 [==============================] - 99s 3s/step - loss: 0.2816 - accuracy: 0.8904 - val_loss: 0.2807 - val_accuracy: 0.9031 - lr: 0.0015\n",
            "Epoch 20/20\n",
            "30/30 [==============================] - 142s 5s/step - loss: 0.2692 - accuracy: 0.9019 - val_loss: 0.2579 - val_accuracy: 0.9146 - lr: 0.0014\n"
          ]
        },
        {
          "output_type": "execute_result",
          "data": {
            "text/plain": [
              "<keras.callbacks.History at 0x7910e32c6140>"
            ]
          },
          "metadata": {},
          "execution_count": 2
        }
      ]
    },
    {
      "cell_type": "code",
      "source": [
        "# Modeli değerlendirme\n",
        "test_loss, test_accuracy = model.evaluate(test_generator, steps=len(test_generator))\n",
        "print(f\"Test Loss: {test_loss}, Test Accuracy: {test_accuracy}\")\n",
        "\n",
        "# Modeli kaydetme\n",
        "model.save(\"mobilnetv2.h5\")\n",
        "print(\"Model başarıyla kaydedildi.\")\n",
        "\n",
        "# Yeni görüntüleri tahmin etme\n",
        "import numpy as np\n",
        "from tensorflow.keras.preprocessing import image\n",
        "\n",
        "def predict_leaf_disease(image_path):\n",
        "    img = image.load_img(image_path, target_size=(img_width, img_height))\n",
        "    img_array = image.img_to_array(img)\n",
        "    img_array = np.expand_dims(img_array, axis=0)\n",
        "    img_array /= 255.0\n",
        "\n",
        "    # Tahmin\n",
        "    prediction = model.predict(img_array)\n",
        "    class_index = np.argmax(prediction[0])   # En yüksek olasılığa sahip sınıfın dizini\n",
        "    class_labels = train_generator.class_indices   # Sınıf etiketlerini alın\n",
        "    class_label = list(class_labels.keys())[list(class_labels.values()).index(class_index)]   # Sınıf etiketini alın\n",
        "    print(f\"Tahmin: {class_label}, Olasılık: {prediction[0][class_index]}\")\n",
        "\n",
        "# Test için yeni bir görüntü tahmini\n",
        "##test_image_path = 'TezVeriSeti/valid/yaprakdelen/delendog (1).png'\n",
        "test_image_path = 'TezVeriSeti/test1/test - Kopya/IMG_20220703_130251-256 b1 (145).png'\n",
        "\n",
        "predict_leaf_disease(test_image_path)"
      ],
      "metadata": {
        "colab": {
          "base_uri": "https://localhost:8080/"
        },
        "id": "stNxqbG4SDm_",
        "outputId": "ec10d11f-5e45-4b02-9b3a-21ebaad78775"
      },
      "execution_count": 3,
      "outputs": [
        {
          "output_type": "stream",
          "name": "stdout",
          "text": [
            "30/30 [==============================] - 51s 2s/step - loss: 0.2579 - accuracy: 0.9146\n",
            "Test Loss: 0.257927268743515, Test Accuracy: 0.9145833253860474\n",
            "Model başarıyla kaydedildi.\n",
            "1/1 [==============================] - 1s 1s/step\n",
            "Tahmin: yaprakdelen, Olasılık: 0.872376024723053\n"
          ]
        }
      ]
    },
    {
      "cell_type": "code",
      "execution_count": 4,
      "metadata": {
        "id": "aL5oC5AZEIKt",
        "colab": {
          "base_uri": "https://localhost:8080/"
        },
        "outputId": "b5a11544-0327-4c1d-b827-a2624bd70dbe"
      },
      "outputs": [
        {
          "output_type": "stream",
          "name": "stdout",
          "text": [
            "30/30 [==============================] - 48s 2s/step - loss: 0.2579 - accuracy: 0.9146\n",
            "Test Loss: 0.257927268743515, Test Accuracy: 0.9145833253860474\n",
            "30/30 [==============================] - 46s 2s/step\n",
            "Karışıklık Matrisi:\n",
            "[[240   0   0   0]\n",
            " [  0 204   9  27]\n",
            " [  0   0 231   9]\n",
            " [  0  15  22 203]]\n",
            "Sınıflandırma Raporu:\n",
            "               precision    recall  f1-score   support\n",
            "\n",
            "      kulleme       1.00      1.00      1.00       240\n",
            "potasyumeksik       0.93      0.85      0.89       240\n",
            "     saglikli       0.88      0.96      0.92       240\n",
            "  yaprakdelen       0.85      0.85      0.85       240\n",
            "\n",
            "     accuracy                           0.91       960\n",
            "    macro avg       0.92      0.91      0.91       960\n",
            " weighted avg       0.92      0.91      0.91       960\n",
            "\n"
          ]
        }
      ],
      "source": [
        "# Diğer importlar...\n",
        "from sklearn.metrics import confusion_matrix, classification_report\n",
        "\n",
        "\n",
        "# Modeli değerlendirme\n",
        "test_loss, test_accuracy = model.evaluate(test_generator, steps=len(test_generator))\n",
        "print(f\"Test Loss: {test_loss}, Test Accuracy: {test_accuracy}\")\n",
        "\n",
        "# Karışıklık matrisini elde etme\n",
        "test_generator.reset()  # Test veri kümesini sıfırlayın\n",
        "y_true = test_generator.classes\n",
        "y_pred = model.predict(test_generator)\n",
        "y_pred_classes = np.argmax(y_pred, axis=1)\n",
        "\n",
        "# Karışıklık matrisini oluşturma\n",
        "confusion_mtx = confusion_matrix(y_true, y_pred_classes)\n",
        "print(\"Karışıklık Matrisi:\")\n",
        "print(confusion_mtx)\n",
        "\n",
        "# Sınıflandırma raporunu elde etme ve yazdırma\n",
        "class_labels = list(test_generator.class_indices.keys())\n",
        "print(\"Sınıflandırma Raporu:\")\n",
        "print(classification_report(y_true, y_pred_classes, target_names=class_labels))\n"
      ]
    },
    {
      "cell_type": "code",
      "execution_count": 5,
      "metadata": {
        "id": "GaSFahOAFA6P",
        "colab": {
          "base_uri": "https://localhost:8080/",
          "height": 824
        },
        "outputId": "0fab902f-d4dd-437f-d67e-ca7b5bbad6c7"
      },
      "outputs": [
        {
          "output_type": "stream",
          "name": "stdout",
          "text": [
            "30/30 [==============================] - 44s 1s/step - loss: 0.2579 - accuracy: 0.9146\n",
            "Test Loss: 0.257927268743515, Test Accuracy: 0.9145833253860474\n",
            "30/30 [==============================] - 44s 1s/step\n"
          ]
        },
        {
          "output_type": "display_data",
          "data": {
            "text/plain": [
              "<Figure size 800x600 with 2 Axes>"
            ],
            "image/png": "[encoded data removed]"
          },
          "metadata": {}
        },
        {
          "output_type": "stream",
          "name": "stdout",
          "text": [
            "Sınıflandırma Raporu:\n",
            "               precision    recall  f1-score   support\n",
            "\n",
            "      kulleme       1.00      1.00      1.00       240\n",
            "potasyumeksik       0.93      0.85      0.89       240\n",
            "     saglikli       0.88      0.96      0.92       240\n",
            "  yaprakdelen       0.85      0.85      0.85       240\n",
            "\n",
            "     accuracy                           0.91       960\n",
            "    macro avg       0.92      0.91      0.91       960\n",
            " weighted avg       0.92      0.91      0.91       960\n",
            "\n"
          ]
        }
      ],
      "source": [
        "# Diğer importlar...\n",
        "from sklearn.metrics import confusion_matrix, classification_report\n",
        "import seaborn as sns\n",
        "import matplotlib.pyplot as plt\n",
        "\n",
        "# Modeli değerlendirme\n",
        "test_loss, test_accuracy = model.evaluate(test_generator, steps=len(test_generator))\n",
        "print(f\"Test Loss: {test_loss}, Test Accuracy: {test_accuracy}\")\n",
        "\n",
        "# Karışıklık matrisini elde etme\n",
        "test_generator.reset()  # Test veri kümesini sıfırlayın\n",
        "y_true = test_generator.classes\n",
        "y_pred = model.predict(test_generator)\n",
        "y_pred_classes = np.argmax(y_pred, axis=1)\n",
        "\n",
        "# Karışıklık matrisini oluşturma\n",
        "confusion_mtx = confusion_matrix(y_true, y_pred_classes)\n",
        "\n",
        "# Karışıklık matrisini görselleştirme\n",
        "plt.figure(figsize=(8, 6))\n",
        "sns.heatmap(confusion_mtx, annot=True, fmt='d', cmap='Blues', xticklabels=class_labels, yticklabels=class_labels)\n",
        "plt.xlabel('Tahmin Edilen Sınıf')\n",
        "plt.ylabel('Gerçek Sınıf')\n",
        "plt.title('Karışıklık Matrisi')\n",
        "plt.show()\n",
        "\n",
        "# Sınıflandırma raporunu elde etme ve yazdırma\n",
        "class_labels = list(test_generator.class_indices.keys())\n",
        "print(\"Sınıflandırma Raporu:\")\n",
        "print(classification_report(y_true, y_pred_classes, target_names=class_labels))\n"
      ]
    }
  ],
  "metadata": {
    "colab": {
      "provenance": [],
      "authorship_tag": "ABX9TyM3nFkcjtWUblMbyjjTgUxH",
      "include_colab_link": true
    },
    "kernelspec": {
      "display_name": "Python 3",
      "name": "python3"
    },
    "language_info": {
      "name": "python"
    }
  },
  "nbformat": 4,
  "nbformat_minor": 0
}