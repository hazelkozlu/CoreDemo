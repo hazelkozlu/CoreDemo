{
  "cells": [
    {
      "cell_type": "markdown",
      "metadata": {
        "id": "view-in-github",
        "colab_type": "text"
      },
      "source": [
        "<a href=\"https://colab.research.google.com/github/hazelkozlu/CoreDemo/blob/master/makalemobilenetson.ipynb\" target=\"_parent\"><img src=\"https://colab.research.google.com/assets/colab-badge.svg\" alt=\"Open In Colab\"/></a>"
      ]
    },
    {
      "cell_type": "code",
      "execution_count": null,
      "metadata": {
        "colab": {
          "base_uri": "https://localhost:8080/"
        },
        "id": "7zeZa4oGs9tt",
        "outputId": "a90e3d48-0caf-4f5a-8dd0-ac3c041f0dbc"
      },
      "outputs": [
        {
          "output_type": "stream",
          "name": "stdout",
          "text": [
            "Mounted at /content/gdrive\n",
            "/content/gdrive/My Drive/Colab Notebooks\n"
          ]
        }
      ],
      "source": [
        "#google drive bağlantısı için\n",
        "from  google.colab import drive\n",
        "drive.mount('/content/gdrive')\n",
        "%cd gdrive/My Drive/Colab Notebooks/"
      ]
    },
    {
      "cell_type": "code",
      "source": [
        "import tensorflow as tf\n",
        "from tensorflow.keras import layers, models\n",
        "from tensorflow.keras.preprocessing.image import ImageDataGenerator\n",
        "from tensorflow.keras.applications import MobileNetV2\n",
        "from tensorflow.keras.optimizers import Adam\n",
        "from tensorflow.keras.callbacks import LearningRateScheduler\n",
        "\n",
        "# Veri yolu ve parametreleri\n",
        "\n",
        "train_data_dir = 'TezVeriSeti/train'\n",
        "test_data_dir = 'TezVeriSeti/valid'\n",
        "img_width, img_height = 224, 224   # MobileNetV2 giriş boyutu\n",
        "batch_size = 32\n",
        "epochs = 15  # Increase the number of epochs\n",
        "num_classes = 4   # Toplam sınıf sayısı\n",
        "\n",
        "# Veri artırma ve ön işleme\n",
        "train_datagen = ImageDataGenerator(\n",
        "    rescale=1.0 / 255,\n",
        "    shear_range=0.2,\n",
        "    zoom_range=0.2,\n",
        "    horizontal_flip=True,\n",
        "    rotation_range=30,        # More rotation\n",
        "    width_shift_range=0.2,\n",
        "    height_shift_range=0.2,\n",
        "    fill_mode='nearest'\n",
        ")\n",
        "\n",
        "test_datagen = ImageDataGenerator(rescale=1.0 / 255)\n",
        "\n",
        "train_generator = train_datagen.flow_from_directory(\n",
        "    train_data_dir,\n",
        "    target_size=(img_width, img_height),\n",
        "    batch_size=batch_size,\n",
        "    class_mode='categorical',\n",
        "    shuffle=True\n",
        ")\n",
        "\n",
        "test_generator = test_datagen.flow_from_directory(\n",
        "    test_data_dir,\n",
        "    target_size=(img_width, img_height),\n",
        "    batch_size=batch_size,\n",
        "    class_mode='categorical',\n",
        "    shuffle=False\n",
        ")\n",
        "\n",
        "# MobileNetV2 modelini yükleyin (weights='imagenet' ile önceden eğitilmiş ağırlıkları yükle)\n",
        "base_model = MobileNetV2(input_shape=(img_width, img_height, 3), include_top=False, weights='imagenet')\n",
        "base_model.trainable = False\n",
        "\n",
        "# Transfer Öğrenme yaparak yeni sınıflandırma katmanlarını ekleyin\n",
        "model = models.Sequential([\n",
        "    base_model,\n",
        "    layers.GlobalAveragePooling2D(),\n",
        "    layers.Dense(128, activation='relu'),  # Increase the number of units\n",
        "    layers.BatchNormalization(),\n",
        "    layers.Dropout(0.5),\n",
        "    layers.Dense(64, activation='relu'),  # Add another Dense layer\n",
        "    layers.BatchNormalization(),\n",
        "    layers.Dropout(0.5),\n",
        "    layers.Dense(num_classes, activation='softmax')\n",
        "])\n",
        "\n",
        "# Modeli derleme ve öğrenme oranı düşürme\n",
        "initial_learning_rate = 0.01\n",
        "lr_schedule = LearningRateScheduler(lambda epoch: initial_learning_rate * 0.9 ** epoch)\n",
        "optimizer = Adam(learning_rate=initial_learning_rate)\n",
        "model.compile(optimizer=optimizer, loss='categorical_crossentropy', metrics=['accuracy'])\n",
        "\n",
        "# Model eğitimi\n",
        "model.fit(\n",
        "    train_generator,\n",
        "    steps_per_epoch=len(train_generator),\n",
        "    epochs=epochs,\n",
        "    validation_data=test_generator,\n",
        "    validation_steps=len(test_generator),\n",
        "    callbacks=[lr_schedule]\n",
        ")\n"
      ],
      "metadata": {
        "colab": {
          "base_uri": "https://localhost:8080/"
        },
        "id": "Q6-fuCODNjij",
        "outputId": "6a40ddbd-8734-4137-b597-221bd9a1c56c"
      },
      "execution_count": 9,
      "outputs": [
        {
          "output_type": "stream",
          "name": "stdout",
          "text": [
            "Found 958 images belonging to 4 classes.\n",
            "Found 960 images belonging to 4 classes.\n",
            "Epoch 1/15\n",
            "30/30 [==============================] - 81s 2s/step - loss: 1.1174 - accuracy: 0.5846 - val_loss: 3.3194 - val_accuracy: 0.4990 - lr: 0.0100\n",
            "Epoch 2/15\n",
            "30/30 [==============================] - 67s 2s/step - loss: 0.6711 - accuracy: 0.7234 - val_loss: 0.5755 - val_accuracy: 0.7760 - lr: 0.0090\n",
            "Epoch 3/15\n",
            "30/30 [==============================] - 78s 3s/step - loss: 0.5880 - accuracy: 0.7578 - val_loss: 0.4172 - val_accuracy: 0.8156 - lr: 0.0081\n",
            "Epoch 4/15\n",
            "30/30 [==============================] - 75s 3s/step - loss: 0.4816 - accuracy: 0.8121 - val_loss: 0.5138 - val_accuracy: 0.8042 - lr: 0.0073\n",
            "Epoch 5/15\n",
            "30/30 [==============================] - 63s 2s/step - loss: 0.5103 - accuracy: 0.8079 - val_loss: 0.3515 - val_accuracy: 0.8604 - lr: 0.0066\n",
            "Epoch 6/15\n",
            "30/30 [==============================] - 76s 3s/step - loss: 0.4469 - accuracy: 0.8278 - val_loss: 0.3670 - val_accuracy: 0.8406 - lr: 0.0059\n",
            "Epoch 7/15\n",
            "30/30 [==============================] - 63s 2s/step - loss: 0.4149 - accuracy: 0.8278 - val_loss: 0.2984 - val_accuracy: 0.8833 - lr: 0.0053\n",
            "Epoch 8/15\n",
            "30/30 [==============================] - 76s 3s/step - loss: 0.3923 - accuracy: 0.8424 - val_loss: 0.3277 - val_accuracy: 0.8771 - lr: 0.0048\n",
            "Epoch 9/15\n",
            "30/30 [==============================] - 76s 3s/step - loss: 0.4345 - accuracy: 0.8246 - val_loss: 0.3354 - val_accuracy: 0.8562 - lr: 0.0043\n",
            "Epoch 10/15\n",
            "30/30 [==============================] - 64s 2s/step - loss: 0.3641 - accuracy: 0.8518 - val_loss: 0.2908 - val_accuracy: 0.8833 - lr: 0.0039\n",
            "Epoch 11/15\n",
            "30/30 [==============================] - 78s 3s/step - loss: 0.3996 - accuracy: 0.8424 - val_loss: 0.2906 - val_accuracy: 0.8875 - lr: 0.0035\n",
            "Epoch 12/15\n",
            "30/30 [==============================] - 75s 3s/step - loss: 0.3763 - accuracy: 0.8507 - val_loss: 0.3340 - val_accuracy: 0.8604 - lr: 0.0031\n",
            "Epoch 13/15\n",
            "30/30 [==============================] - 75s 3s/step - loss: 0.3087 - accuracy: 0.8873 - val_loss: 0.3185 - val_accuracy: 0.8750 - lr: 0.0028\n",
            "Epoch 14/15\n",
            "30/30 [==============================] - 76s 3s/step - loss: 0.3383 - accuracy: 0.8633 - val_loss: 0.2757 - val_accuracy: 0.8906 - lr: 0.0025\n",
            "Epoch 15/15\n",
            "30/30 [==============================] - 64s 2s/step - loss: 0.2974 - accuracy: 0.8862 - val_loss: 0.2956 - val_accuracy: 0.8854 - lr: 0.0023\n"
          ]
        },
        {
          "output_type": "execute_result",
          "data": {
            "text/plain": [
              "<keras.callbacks.History at 0x7c1a8880b0a0>"
            ]
          },
          "metadata": {},
          "execution_count": 9
        }
      ]
    },
    {
      "cell_type": "code",
      "source": [
        "# Modeli değerlendirme\n",
        "test_loss, test_accuracy = model.evaluate(test_generator, steps=len(test_generator))\n",
        "print(f\"Test Loss: {test_loss}, Test Accuracy: {test_accuracy}\")\n",
        "\n",
        "# Modeli kaydetme\n",
        "model.save(\"mobilnetv2.h5\")\n",
        "print(\"Model başarıyla kaydedildi.\")\n",
        "\n",
        "# Yeni görüntüleri tahmin etme\n",
        "import numpy as np\n",
        "from tensorflow.keras.preprocessing import image\n",
        "\n",
        "def predict_leaf_disease(image_path):\n",
        "    img = image.load_img(image_path, target_size=(img_width, img_height))\n",
        "    img_array = image.img_to_array(img)\n",
        "    img_array = np.expand_dims(img_array, axis=0)\n",
        "    img_array /= 255.0\n",
        "\n",
        "    # Tahmin\n",
        "    prediction = model.predict(img_array)\n",
        "    class_index = np.argmax(prediction[0])   # En yüksek olasılığa sahip sınıfın dizini\n",
        "    class_labels = train_generator.class_indices   # Sınıf etiketlerini alın\n",
        "    class_label = list(class_labels.keys())[list(class_labels.values()).index(class_index)]   # Sınıf etiketini alın\n",
        "    print(f\"Tahmin: {class_label}, Olasılık: {prediction[0][class_index]}\")\n",
        "\n",
        "# Test için yeni bir görüntü tahmini\n",
        "##test_image_path = 'TezVeriSeti/valid/yaprakdelen/delendog (1).png'\n",
        "test_image_path = 'TezVeriSeti/test1/test - Kopya/IMG_20220703_130251-256 b1 (145).png'\n",
        "\n",
        "predict_leaf_disease(test_image_path)"
      ],
      "metadata": {
        "colab": {
          "base_uri": "https://localhost:8080/"
        },
        "id": "stNxqbG4SDm_",
        "outputId": "5db6d3d2-9885-4725-df2e-e2155cab6f8c"
      },
      "execution_count": 14,
      "outputs": [
        {
          "output_type": "stream",
          "name": "stdout",
          "text": [
            "30/30 [==============================] - 31s 988ms/step - loss: 0.2956 - accuracy: 0.8854\n",
            "Test Loss: 0.29556897282600403, Test Accuracy: 0.8854166865348816\n",
            "Model başarıyla kaydedildi.\n",
            "1/1 [==============================] - 1s 728ms/step\n",
            "Tahmin: yaprakdelen, Olasılık: 0.958946704864502\n"
          ]
        }
      ]
    },
    {
      "cell_type": "code",
      "execution_count": 11,
      "metadata": {
        "id": "aL5oC5AZEIKt",
        "colab": {
          "base_uri": "https://localhost:8080/"
        },
        "outputId": "98a38417-62f2-4aa9-8a93-64e4a332536f"
      },
      "outputs": [
        {
          "output_type": "stream",
          "name": "stdout",
          "text": [
            "30/30 [==============================] - 30s 990ms/step - loss: 0.2956 - accuracy: 0.8854\n",
            "Test Loss: 0.29556897282600403, Test Accuracy: 0.8854166865348816\n",
            "30/30 [==============================] - 31s 1s/step\n",
            "Karışıklık Matrisi:\n",
            "[[240   0   0   0]\n",
            " [  0 191   7  42]\n",
            " [  3   2 214  21]\n",
            " [  0  18  17 205]]\n",
            "Sınıflandırma Raporu:\n",
            "               precision    recall  f1-score   support\n",
            "\n",
            "      kulleme       0.99      1.00      0.99       240\n",
            "potasyumeksik       0.91      0.80      0.85       240\n",
            "     saglikli       0.90      0.89      0.90       240\n",
            "  yaprakdelen       0.76      0.85      0.81       240\n",
            "\n",
            "     accuracy                           0.89       960\n",
            "    macro avg       0.89      0.89      0.89       960\n",
            " weighted avg       0.89      0.89      0.89       960\n",
            "\n"
          ]
        }
      ],
      "source": [
        "# Diğer importlar...\n",
        "from sklearn.metrics import confusion_matrix, classification_report\n",
        "\n",
        "\n",
        "# Modeli değerlendirme\n",
        "test_loss, test_accuracy = model.evaluate(test_generator, steps=len(test_generator))\n",
        "print(f\"Test Loss: {test_loss}, Test Accuracy: {test_accuracy}\")\n",
        "\n",
        "# Karışıklık matrisini elde etme\n",
        "test_generator.reset()  # Test veri kümesini sıfırlayın\n",
        "y_true = test_generator.classes\n",
        "y_pred = model.predict(test_generator)\n",
        "y_pred_classes = np.argmax(y_pred, axis=1)\n",
        "\n",
        "# Karışıklık matrisini oluşturma\n",
        "confusion_mtx = confusion_matrix(y_true, y_pred_classes)\n",
        "print(\"Karışıklık Matrisi:\")\n",
        "print(confusion_mtx)\n",
        "\n",
        "# Sınıflandırma raporunu elde etme ve yazdırma\n",
        "class_labels = list(test_generator.class_indices.keys())\n",
        "print(\"Sınıflandırma Raporu:\")\n",
        "print(classification_report(y_true, y_pred_classes, target_names=class_labels))\n"
      ]
    },
    {
      "cell_type": "code",
      "execution_count": 12,
      "metadata": {
        "id": "GaSFahOAFA6P",
        "colab": {
          "base_uri": "https://localhost:8080/",
          "height": 824
        },
        "outputId": "b473b513-98bf-49bf-f615-405ac715d28c"
      },
      "outputs": [
        {
          "output_type": "stream",
          "name": "stdout",
          "text": [
            "30/30 [==============================] - 30s 1s/step - loss: 0.2956 - accuracy: 0.8854\n",
            "Test Loss: 0.29556897282600403, Test Accuracy: 0.8854166865348816\n",
            "30/30 [==============================] - 30s 1s/step\n"
          ]
        },
        {
          "output_type": "display_data",
          "data": {
            "text/plain": [
              "<Figure size 800x600 with 2 Axes>"
            ],
            "image/png": "[encoded data removed]"
          },
          "metadata": {}
        },
        {
          "output_type": "stream",
          "name": "stdout",
          "text": [
            "Sınıflandırma Raporu:\n",
            "               precision    recall  f1-score   support\n",
            "\n",
            "      kulleme       0.99      1.00      0.99       240\n",
            "potasyumeksik       0.91      0.80      0.85       240\n",
            "     saglikli       0.90      0.89      0.90       240\n",
            "  yaprakdelen       0.76      0.85      0.81       240\n",
            "\n",
            "     accuracy                           0.89       960\n",
            "    macro avg       0.89      0.89      0.89       960\n",
            " weighted avg       0.89      0.89      0.89       960\n",
            "\n"
          ]
        }
      ],
      "source": [
        "# Diğer importlar...\n",
        "from sklearn.metrics import confusion_matrix, classification_report\n",
        "import seaborn as sns\n",
        "import matplotlib.pyplot as plt\n",
        "\n",
        "# Modeli değerlendirme\n",
        "test_loss, test_accuracy = model.evaluate(test_generator, steps=len(test_generator))\n",
        "print(f\"Test Loss: {test_loss}, Test Accuracy: {test_accuracy}\")\n",
        "\n",
        "# Karışıklık matrisini elde etme\n",
        "test_generator.reset()  # Test veri kümesini sıfırlayın\n",
        "y_true = test_generator.classes\n",
        "y_pred = model.predict(test_generator)\n",
        "y_pred_classes = np.argmax(y_pred, axis=1)\n",
        "\n",
        "# Karışıklık matrisini oluşturma\n",
        "confusion_mtx = confusion_matrix(y_true, y_pred_classes)\n",
        "\n",
        "# Karışıklık matrisini görselleştirme\n",
        "plt.figure(figsize=(8, 6))\n",
        "sns.heatmap(confusion_mtx, annot=True, fmt='d', cmap='Blues', xticklabels=class_labels, yticklabels=class_labels)\n",
        "plt.xlabel('Tahmin Edilen Sınıf')\n",
        "plt.ylabel('Gerçek Sınıf')\n",
        "plt.title('Karışıklık Matrisi')\n",
        "plt.show()\n",
        "\n",
        "# Sınıflandırma raporunu elde etme ve yazdırma\n",
        "class_labels = list(test_generator.class_indices.keys())\n",
        "print(\"Sınıflandırma Raporu:\")\n",
        "print(classification_report(y_true, y_pred_classes, target_names=class_labels))\n"
      ]
    }
  ],
  "metadata": {
    "colab": {
      "provenance": [],
      "authorship_tag": "ABX9TyOp5zZE/mqOMsoKH8OjYqBb",
      "include_colab_link": true
    },
    "kernelspec": {
      "display_name": "Python 3",
      "name": "python3"
    },
    "language_info": {
      "name": "python"
    }
  },
  "nbformat": 4,
  "nbformat_minor": 0
}